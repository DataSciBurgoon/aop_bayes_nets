{
 "cells": [
  {
   "cell_type": "markdown",
   "metadata": {},
   "source": [
    "# Steatosis Bayesian Network Demonstration"
   ]
  },
  {
   "cell_type": "markdown",
   "metadata": {},
   "source": [
    "Lyle D. Burgoon, Ph.D.\n",
    "\n",
    "US Army Engineer Research and Development Center\n",
    "\n",
    "20 April 2017\n",
    "\n",
    "\n",
    "## Introduction\n",
    "\n",
    "\n",
    "Bayesian networks (BNs) provide a means to probabilistically model causation -- leading to odds and probabilities for predictions given certain evidence. BNs are a natural fit for the Adverse Outcome Pathway concept as well -- where causal linkages are built between key events that lead to an adverse outcome.\n",
    "\n",
    "Here we will demonstrate several uses for BNs in the AOP framework -- we term these AOPBNs -- or AOP Bayesian Networks."
   ]
  },
  {
   "cell_type": "markdown",
   "metadata": {},
   "source": [
    "## Scenario 1: Identifying Sufficient Key Events\n",
    "\n",
    "In this scenario we will identify those key events that are sufficient to infer the adverse outcome. Under Rothman's idea of sufficient (reviewed and used in [[http://onlinelibrary.wiley.com/doi/10.1111/risa.12613/abstract Burgoon et al 2016]]), those key events (or simply just one key event) that are sufficient to infer the adverse outcome are the only ones that need to be measured. Key to Rothman's idea is that sufficiency could encompass a suite of key events, not just a single key event.\n",
    "\n"
   ]
  }
 ],
 "metadata": {
  "kernelspec": {
   "display_name": "Python 3",
   "language": "python",
   "name": "python3"
  },
  "language_info": {
   "codemirror_mode": {
    "name": "ipython",
    "version": 3
   },
   "file_extension": ".py",
   "mimetype": "text/x-python",
   "name": "python",
   "nbconvert_exporter": "python",
   "pygments_lexer": "ipython3",
   "version": "3.5.3"
  }
 },
 "nbformat": 4,
 "nbformat_minor": 2
}
