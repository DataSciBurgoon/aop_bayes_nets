{
 "cells": [
  {
   "cell_type": "markdown",
   "metadata": {},
   "source": [
    "# Steatosis Bayesian Network Demonstration"
   ]
  },
  {
   "cell_type": "markdown",
   "metadata": {},
   "source": [
    "Lyle D. Burgoon, Ph.D.\n",
    "\n",
    "US Army Engineer Research and Development Center\n",
    "\n",
    "20 April 2017\n",
    "\n",
    "\n",
    "## Introduction\n",
    "\n",
    "\n",
    "Bayesian networks (BNs) provide a means to probabilistically model causation -- leading to odds and probabilities for predictions given certain evidence. BNs are a natural fit for the Adverse Outcome Pathway concept as well -- where causal linkages are built between key events that lead to an adverse outcome.\n",
    "\n",
    "Here we will demonstrate several uses for BNs in the AOP framework -- we term these AOPBNs -- or AOP Bayesian Networks."
   ]
  },
  {
   "cell_type": "markdown",
   "metadata": {},
   "source": [
    "## AOP Bayesian Network for Steatosis\n",
    "\n",
    "The AOPBN for steatosis is an expert knowledge derived model. I built the model based on the literature and my knowledge of the pathways leading to steatosis."
   ]
  },
  {
   "cell_type": "code",
   "execution_count": 1,
   "metadata": {},
   "outputs": [
    {
     "ename": "NameError",
     "evalue": "name 'library' is not defined",
     "output_type": "error",
     "traceback": [
      "\u001b[0;31m---------------------------------------------------------------------------\u001b[0m",
      "\u001b[0;31mNameError\u001b[0m                                 Traceback (most recent call last)",
      "\u001b[0;32m<ipython-input-1-320cbb3960e7>\u001b[0m in \u001b[0;36m<module>\u001b[0;34m()\u001b[0m\n\u001b[0;32m----> 1\u001b[0;31m \u001b[0mlibrary\u001b[0m\u001b[0;34m(\u001b[0m\u001b[0mgRain\u001b[0m\u001b[0;34m)\u001b[0m\u001b[0;34m\u001b[0m\u001b[0m\n\u001b[0m\u001b[1;32m      2\u001b[0m \u001b[0;34m\u001b[0m\u001b[0m\n\u001b[1;32m      3\u001b[0m \u001b[0;31m#Building the Bayes Net\u001b[0m\u001b[0;34m\u001b[0m\u001b[0;34m\u001b[0m\u001b[0m\n\u001b[1;32m      4\u001b[0m \u001b[0myn\u001b[0m \u001b[0;34m<\u001b[0m\u001b[0;34m-\u001b[0m \u001b[0mc\u001b[0m\u001b[0;34m(\u001b[0m\u001b[0;34m\"yes\"\u001b[0m\u001b[0;34m,\u001b[0m \u001b[0;34m\"no\"\u001b[0m\u001b[0;34m)\u001b[0m\u001b[0;34m\u001b[0m\u001b[0m\n\u001b[1;32m      5\u001b[0m \u001b[0mnrf2\u001b[0m \u001b[0;34m<\u001b[0m\u001b[0;34m-\u001b[0m \u001b[0mcptable\u001b[0m\u001b[0;34m(\u001b[0m\u001b[0;34m~\u001b[0m \u001b[0mnrf2\u001b[0m\u001b[0;34m,\u001b[0m \u001b[0mvalues\u001b[0m\u001b[0;34m=\u001b[0m\u001b[0mc\u001b[0m\u001b[0;34m(\u001b[0m\u001b[0;36m0.5\u001b[0m\u001b[0;34m,\u001b[0m \u001b[0;36m0.5\u001b[0m\u001b[0;34m)\u001b[0m\u001b[0;34m,\u001b[0m \u001b[0mlevels\u001b[0m\u001b[0;34m=\u001b[0m\u001b[0myn\u001b[0m\u001b[0;34m)\u001b[0m\u001b[0;34m\u001b[0m\u001b[0m\n",
      "\u001b[0;31mNameError\u001b[0m: name 'library' is not defined"
     ]
    }
   ],
   "source": [
    "library(gRain)\n",
    "\n",
    "#Building the Bayes Net\n",
    "yn <- c(\"yes\", \"no\")\n",
    "nrf2 <- cptable(~ nrf2, values=c(0.5, 0.5), levels=yn)\n",
    "fxr <- cptable(~ fxr | nrf2, values=c(0.95, 0.05, 0.05, 0.95), levels=yn)\n",
    "shp <- cptable(~ shp | fxr, values=c(0.95, 0.05, 0.05, 0.95), levels=yn)\n",
    "lxr <- cptable(~ lxr | shp, values=c(0.05, 0.95, 0.95, 0.05), levels=yn)\n",
    "ppar_alpha <- cptable(~ ppara | fxr+shp+lxr, \n",
    "                      values=c(0.50, 0.50, 0.50, 0.50, 0.50, 0.50, 0.01, 0.99,\n",
    "                               0.99, 0.01, 0.50, 0.50, 0.50, 0.50, 0.01, 0.99),\n",
    "                      levels=yn)\n",
    "hsd17b4 <- cptable(~ hsd17b4 | ppara, values=c(0.95, 0.05, 0.05, 0.95), levels=yn)\n",
    "fatty_acid_beta_oxidation <- cptable(~ fatty_acid_beta_oxidation | hsd17b4,\n",
    "                                     values = c(0.99, 0.01, 0.01, 0.99), levels=yn)\n",
    "steatosis <-  cptable(~steatosis | cytosolic_fatty_acids + fatty_acid_beta_oxidation, \n",
    "                      values=c(0.01, 0.99, 0.01, 0.99, 0.99, 0.01, 0.99, 0.01), levels=yn)\n",
    "lrh1 <- cptable(~lrh1 | shp,\n",
    "                values=c(0.05, 0.95, 0.95, 0.05), levels=yn)\n",
    "pi3k <- cptable(~pi3k, values=c(0.50, 0.50), levels=yn)\n",
    "mtorc2 <- cptable(~mtorc2 | ir, values=c(0.99, 0.01, 0.01, 0.99), levels=yn)\n",
    "ir <- cptable(~ir, values=c(0.50, 0.50), levels=yn)\n",
    "akt <- cptable(~akt | pi3k+mtorc2, values=c(0.95, 0.05, 0.05, 0.95,\n",
    "                                            0.95, 0.05, 0.05, 0.95),\n",
    "               levels=yn)\n",
    "lfabp <- cptable(~lfabp | akt+pi3k, values=c(0.95, 0.05, 0.05, 0.05, 0.50, 0.50, 0.05, 0.95),\n",
    "                 levels=yn)\n",
    "pparg <- cptable(~pparg | lfabp, values=c(0.95, 0.05, 0.05, 0.95), levels=yn)\n",
    "fas <- cptable(~fas | lrh1+lxr+pparg, values=c(0.95, 0.05, 0.75, 0.25, 0.75, 0.25, 0.50, 0.50,\n",
    "                                               0.75, 0.25, 0.50, 0.50, 0.50, 0.50, 0.01, 0.99),\n",
    "               levels=yn)\n",
    "mtorc1 <- cptable(~mtorc1 | akt, values=c(0.95, 0.05, 0.05, 0.95), levels=yn)\n",
    "apkc <- cptable(~apkc | pi3k, values=c(0.99, 0.01, 0.01, 0.99), levels=yn)\n",
    "srebp1 <- cptable(~srebp1 | mtorc1 + apkc, values=c(0.95, 0.05, 0.05, 0.95,\n",
    "                                                    0.95, 0.05, 0.05, 0.95),\n",
    "                  levels=yn)\n",
    "scd1 <- cptable(~scd1 | srebp1, values=c(1, 0, 0, 1), levels=yn)\n",
    "lipogenesis <- cptable(~lipogenesis | scd1 + fas, values=c(0.95, 0.05, 0.05, 0.95,\n",
    "                                                           0.95, 0.05, 0.05, 0.95),\n",
    "                       levels=yn)\n",
    "cytosolic_fatty_acids <- cptable(~cytosolic_fatty_acids | lipogenesis + lfabp, \n",
    "                                 values=c(0.99, 0.01, 0.99, 0.01, 0.99, 0.01, 0.01, 0.99),\n",
    "                                 levels=yn)\n",
    "\n",
    "plist <- compileCPT(list(nrf2, fxr, shp, lxr, ppar_alpha, hsd17b4, \n",
    "                         fatty_acid_beta_oxidation, steatosis, lrh1, pi3k, \n",
    "                         mtorc2, ir, akt, lfabp, pparg, fas, mtorc1, apkc, srebp1, scd1, lipogenesis,\n",
    "                         cytosolic_fatty_acids))\n",
    "bn_test <- grain(plist)"
   ]
  },
  {
   "cell_type": "markdown",
   "metadata": {},
   "source": [
    "## Scenario 1: Identifying Sufficient Key Events\n",
    "\n",
    "In this scenario we will identify those key events that are sufficient to infer the adverse outcome. Under Rothman's idea of sufficient (reviewed and used in [[http://onlinelibrary.wiley.com/doi/10.1111/risa.12613/abstract Burgoon et al 2016]]), those key events (or simply just one key event) that are sufficient to infer the adverse outcome are the only ones that need to be measured. Key to Rothman's idea is that sufficiency could encompass a suite of key events, not just a single key event.\n",
    "\n",
    "The way to "
   ]
  }
 ],
 "metadata": {
  "kernelspec": {
   "display_name": "R",
   "language": "R",
   "name": "ir"
  },
  "language_info": {
   "codemirror_mode": {
    "name": "ipython",
    "version": 3
   },
   "file_extension": ".py",
   "mimetype": "text/x-python",
   "name": "python",
   "nbconvert_exporter": "python",
   "pygments_lexer": "ipython3",
   "version": "3.5.3"
  }
 },
 "nbformat": 4,
 "nbformat_minor": 2
}
